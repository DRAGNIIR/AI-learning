{
  "nbformat": 4,
  "nbformat_minor": 0,
  "metadata": {
    "colab": {
      "provenance": [],
      "authorship_tag": "ABX9TyOOxIVsJ/zVdZcjo6Lj8bed",
      "include_colab_link": true
    },
    "kernelspec": {
      "name": "python3",
      "display_name": "Python 3"
    },
    "language_info": {
      "name": "python"
    }
  },
  "cells": [
    {
      "cell_type": "markdown",
      "metadata": {
        "id": "view-in-github",
        "colab_type": "text"
      },
      "source": [
        "<a href=\"https://colab.research.google.com/github/DRAGNIIR/AI-learning/blob/main/AI_w8_24_3.ipynb\" target=\"_parent\"><img src=\"https://colab.research.google.com/assets/colab-badge.svg\" alt=\"Open In Colab\"/></a>"
      ]
    },
    {
      "cell_type": "code",
      "execution_count": null,
      "metadata": {
        "colab": {
          "base_uri": "https://localhost:8080/"
        },
        "id": "7X-zkM6P4L-x",
        "outputId": "c66f2d43-73bb-43b8-a6d8-a5df64366ecd"
      },
      "outputs": [
        {
          "output_type": "stream",
          "name": "stdout",
          "text": [
            "[0 0 1 1 1 1 1 1]\n"
          ]
        },
        {
          "output_type": "execute_result",
          "data": {
            "text/plain": [
              "1.0"
            ]
          },
          "metadata": {},
          "execution_count": 8
        }
      ],
      "source": [
        "from sklearn.linear_model import Perceptron\n",
        "x = [[0,0],[0,1],[1,0],[1,1]]\n",
        "y = [0,1,1,1]\n",
        "model = Perceptron()\n",
        "model.fit(x,y)\n",
        "model.score(x,y)\n",
        "# bien co do chinh xac la 1 do ....\n",
        "\n",
        "#test giao diem tren do thi\n",
        "x1= [[0.5,0],[0,0.5],[0.6,0],[0,0.6],[0.51,0],[0,0.51],[10,-2],[-0.2,1]]\n",
        "y1= model.predict(x1)\n",
        "\n",
        "print(y1)\n",
        "model.score(x1,y1)"
      ]
    },
    {
      "cell_type": "code",
      "source": [],
      "metadata": {
        "id": "n4iyIbtyN-_3"
      },
      "execution_count": null,
      "outputs": []
    },
    {
      "cell_type": "code",
      "source": [],
      "metadata": {
        "id": "jT-mYWSxOAmW"
      },
      "execution_count": null,
      "outputs": []
    },
    {
      "cell_type": "code",
      "source": [
        "x2= [[-0.5,-0.5],[-0.5,0.5],[0.3,-0.5],[-0.1,1]]\n",
        "y2= [1,1,0,0]\n",
        "model2 = Perceptron()\n",
        "model2.fit(x2,y2)\n",
        "model2.score(x2,y2)\n",
        "\n",
        "X21= [[0.3,-0.3],[-0.3,-0.5],[0.1,0.1]]\n",
        "y21= model2.predict(X21)\n",
        "print(y21)\n",
        "model2.score(X21,y21)\n"
      ],
      "metadata": {
        "colab": {
          "base_uri": "https://localhost:8080/"
        },
        "id": "P7eydRoTAPsr",
        "outputId": "e8b60039-aaa3-49ab-8f34-4464e4b51853"
      },
      "execution_count": null,
      "outputs": [
        {
          "output_type": "stream",
          "name": "stdout",
          "text": [
            "[0 1 0]\n"
          ]
        },
        {
          "output_type": "execute_result",
          "data": {
            "text/plain": [
              "1.0"
            ]
          },
          "metadata": {},
          "execution_count": 19
        }
      ]
    },
    {
      "cell_type": "code",
      "source": [
        "from sklearn import datasets\n",
        "from sklearn.linear_model import Perceptron\n",
        "from sklearn.model_selection import train_test_split\n",
        "from sklearn.metrics import accuracy_score\n",
        "from sklearn.preprocessing import StandardScaler \n",
        "\n",
        "\n",
        "iris = datasets.load_iris()\n",
        "X = iris.data\n",
        "Y = iris.target\n",
        "print(X[:5])\n",
        "print(Y[:5])\n",
        "\n",
        "X_train, X_test, Y_train, Y_test = train_test_split(X,Y,test_size=0.3)\n",
        "\n"
      ],
      "metadata": {
        "colab": {
          "base_uri": "https://localhost:8080/"
        },
        "id": "-VCkhXUoD8_b",
        "outputId": "4081edf1-e352-4302-90ba-f6e676372d55"
      },
      "execution_count": null,
      "outputs": [
        {
          "output_type": "stream",
          "name": "stdout",
          "text": [
            "[[5.1 3.5 1.4 0.2]\n",
            " [4.9 3.  1.4 0.2]\n",
            " [4.7 3.2 1.3 0.2]\n",
            " [4.6 3.1 1.5 0.2]\n",
            " [5.  3.6 1.4 0.2]]\n",
            "[0 0 0 0 0]\n"
          ]
        }
      ]
    },
    {
      "cell_type": "code",
      "source": [
        "Sc = StandardScaler()\n",
        "Sc.fit(X_train)\n",
        "X_train_std  = Sc.transform(X_train)\n",
        "X_test_std = Sc.transform(X_test)\n",
        "\n",
        "model = Perceptron(max_iter=40, eta0=0.1, random_state = 0)\n",
        "model.fit(X_train,Y_train)\n",
        "Y_pre = model.predict(X_test)\n",
        "\n",
        "\n",
        "print(Y_test)\n",
        "print(Y_pre)\n",
        "\n",
        "print('Do chinh xac khi chua scale:', accuracy_score(Y_test,Y_pre))\n"
      ],
      "metadata": {
        "colab": {
          "base_uri": "https://localhost:8080/"
        },
        "id": "CM0OSw36KVwL",
        "outputId": "a4324df2-ac7e-4a45-f1a0-d0cddbbd28c7"
      },
      "execution_count": null,
      "outputs": [
        {
          "output_type": "stream",
          "name": "stdout",
          "text": [
            "[2 0 2 0 1 0 1 2 2 0 0 0 0 1 2 1 2 1 0 1 0 1 2 2 2 0 1 1 1 1 2 0 0 0 1 0 0\n",
            " 1 0 1 2 1 0 1 0]\n",
            "[2 0 2 0 1 0 1 1 2 0 0 0 0 1 2 1 2 1 1 1 0 1 2 2 2 0 1 1 1 1 1 0 0 0 1 0 0\n",
            " 1 0 1 1 1 0 1 0]\n",
            "Do chinh xac khi chua scale: 0.9111111111111111\n"
          ]
        }
      ]
    },
    {
      "cell_type": "code",
      "source": [
        "model = Perceptron(max_iter=40, eta0=0.1,random_state=0)\n",
        "model.fit(X_train_std,Y_train)\n",
        "Y_pre=model.predict(X_test_std)\n",
        "print(Y_test)\n",
        "print(Y_pre)\n",
        "print('do chinh xac  khi chua scale:', accuracy_score(Y_test,Y_pre))"
      ],
      "metadata": {
        "colab": {
          "base_uri": "https://localhost:8080/"
        },
        "id": "tEpjtuPMKnt0",
        "outputId": "cbadbe52-d14e-4810-d694-8afb090a31d5"
      },
      "execution_count": null,
      "outputs": [
        {
          "output_type": "stream",
          "name": "stdout",
          "text": [
            "[2 0 2 0 1 0 1 2 2 0 0 0 0 1 2 1 2 1 0 1 0 1 2 2 2 0 1 1 1 1 2 0 0 0 1 0 0\n",
            " 1 0 1 2 1 0 1 0]\n",
            "[2 0 2 0 1 0 1 1 2 0 0 0 0 1 2 1 2 1 0 1 0 0 2 2 2 0 1 1 1 1 1 0 0 0 0 0 0\n",
            " 1 0 1 1 1 0 1 0]\n",
            "do chinh xac  khi chua scale: 0.8888888888888888\n"
          ]
        }
      ]
    },
    {
      "cell_type": "code",
      "source": [
        "import pandas as pd\n",
        "from sklearn import datasets\n",
        "from sklearn.linear_model import Perceptron\n",
        "from sklearn.model_selection import train_test_split\n",
        "from sklearn.metrics import accuracy_score\n",
        "from sklearn.preprocessing import StandardScaler \n",
        "\n",
        "url ='lung_cancer_examples.csv'\n",
        "\n",
        "\n",
        "\n",
        "dataframe = pd.read_csv(url)\n",
        "\n",
        "iris = datasets.load_iris()\n",
        "X = iris.data\n",
        "Y = iris.target\n",
        "Cancer = []\n",
        "Cancer.append(dataframe['Smokes'])\n",
        "Cancer.append(dataframe['AreaQ'])\n",
        "print(Cancer)\n"
      ],
      "metadata": {
        "colab": {
          "base_uri": "https://localhost:8080/"
        },
        "id": "rD905DxEOCAB",
        "outputId": "4af3df4a-9e93-4802-a75d-f6fed403703f"
      },
      "execution_count": null,
      "outputs": [
        {
          "output_type": "stream",
          "name": "stdout",
          "text": [
            "[0      3\n",
            "1     20\n",
            "2      0\n",
            "3      0\n",
            "4      4\n",
            "5      0\n",
            "6     15\n",
            "7     12\n",
            "8      2\n",
            "9     18\n",
            "10     4\n",
            "11    10\n",
            "12     2\n",
            "13    20\n",
            "14    25\n",
            "15    18\n",
            "16    22\n",
            "17    12\n",
            "18     5\n",
            "19    10\n",
            "20    15\n",
            "21     8\n",
            "22    20\n",
            "23     5\n",
            "24     3\n",
            "25    20\n",
            "26    15\n",
            "27    12\n",
            "28    20\n",
            "29    20\n",
            "30    13\n",
            "31    20\n",
            "32    15\n",
            "33    25\n",
            "34    10\n",
            "35    20\n",
            "36    20\n",
            "37    15\n",
            "38    25\n",
            "39    10\n",
            "40    20\n",
            "41    12\n",
            "42    20\n",
            "43    20\n",
            "44    15\n",
            "45    20\n",
            "46    20\n",
            "47    10\n",
            "48    20\n",
            "49    20\n",
            "50    12\n",
            "51    30\n",
            "52    34\n",
            "53    20\n",
            "54    13\n",
            "55    20\n",
            "56    15\n",
            "57    30\n",
            "58    25\n",
            "Name: Smokes, dtype: int64, 0      5\n",
            "1      2\n",
            "2      5\n",
            "3      8\n",
            "4      5\n",
            "5     10\n",
            "6     10\n",
            "7      5\n",
            "8      6\n",
            "9      4\n",
            "10     8\n",
            "11     6\n",
            "12     5\n",
            "13     2\n",
            "14     4\n",
            "15     8\n",
            "16     3\n",
            "17     8\n",
            "18     4\n",
            "19     7\n",
            "20     1\n",
            "21     8\n",
            "22     6\n",
            "23     8\n",
            "24     2\n",
            "25     5\n",
            "26     6\n",
            "27     8\n",
            "28     1\n",
            "29     2\n",
            "30     5\n",
            "31     3\n",
            "32     1\n",
            "33     3\n",
            "34     7\n",
            "35     8\n",
            "36     3\n",
            "37     5\n",
            "38     8\n",
            "39     5\n",
            "40     2\n",
            "41     8\n",
            "42     5\n",
            "43     4\n",
            "44     7\n",
            "45     8\n",
            "46     9\n",
            "47     4\n",
            "48     6\n",
            "49     5\n",
            "50     6\n",
            "51     1\n",
            "52     1\n",
            "53     5\n",
            "54     6\n",
            "55     5\n",
            "56     3\n",
            "57     3\n",
            "58     9\n",
            "Name: AreaQ, dtype: int64]\n"
          ]
        }
      ]
    }
  ]
}